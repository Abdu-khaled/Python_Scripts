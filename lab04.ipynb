{
 "cells": [
  {
   "cell_type": "markdown",
   "metadata": {},
   "source": [
    "#### 01) We need to implement a python class that represents the queue data structure.\n",
    "         The class should have these operations:\n",
    "          - insert(value) => which inserts a new value at the rear of the queue\n",
    "          - pop() => which returns and removes a value from the front of the queue.\n",
    "         We should return None and print a warning message if we tried to pop value from an empty queue\n",
    "          - is_empty() => which returns True or False to represent whether the queue is empty or not"
   ]
  },
  {
   "cell_type": "code",
   "execution_count": 3,
   "metadata": {},
   "outputs": [
    {
     "name": "stdout",
     "output_type": "stream",
     "text": [
      "5\n",
      "10\n",
      "True\n"
     ]
    }
   ],
   "source": [
    "class Queue:\n",
    "\n",
    "    def __init__(self):\n",
    "        self.items = []\n",
    "    \n",
    "    def insert(self, value):\n",
    "        self.items.append(value)\n",
    "\n",
    "    def pop(self):\n",
    "        \n",
    "        if self.is_empty():\n",
    "            print(\"Queue is empty\")\n",
    "            return None\n",
    "        return self.items.pop(0)\n",
    "\n",
    "\n",
    "    def is_empty(self):\n",
    "        return len(self.items) == 0\n",
    "    \n",
    "\n",
    "\n",
    "queue = Queue()\n",
    "queue.insert(5)\n",
    "queue.insert(10)\n",
    "print(queue.pop())\n",
    "print(queue.pop())\n",
    "print(queue.is_empty())"
   ]
  },
  {
   "cell_type": "markdown",
   "metadata": {},
   "source": [
    "#### 02) We need to implement another queue class that has the same properties as previous but with the following changes:\n",
    "        A. The queue should have a name that is provided as a parameter of its constructor\n",
    "        B. The queue should have a size that is provided as a parameter of its constructor and if we tried to insert more values than its size raises a custom \n",
    "           exception called QueueOutOfRangeException\n",
    "        C. The queue keeps track with all queues instances that has been created through this class and we can get any queue of them using its name \n",
    "        D. The queue class should have two class methods called (save, load) which saves all created queues instances to a file and load them when needed."
   ]
  },
  {
   "cell_type": "code",
   "execution_count": 9,
   "metadata": {},
   "outputs": [
    {
     "ename": "QueueOutOfRangeException",
     "evalue": "Queue 'first' has reached its size limit of 3.",
     "output_type": "error",
     "traceback": [
      "\u001b[0;31m---------------------------------------------------------------------------\u001b[0m",
      "\u001b[0;31mQueueOutOfRangeException\u001b[0m                  Traceback (most recent call last)",
      "Cell \u001b[0;32mIn[9], line 8\u001b[0m\n\u001b[1;32m      3\u001b[0m \u001b[38;5;28;01mclass\u001b[39;00m  \u001b[38;5;21;01mQueueOutOfRangeException\u001b[39;00m(\u001b[38;5;167;01mException\u001b[39;00m):\n\u001b[1;32m      4\u001b[0m     \u001b[38;5;28;01mpass\u001b[39;00m\n\u001b[0;32m----> 8\u001b[0m \u001b[38;5;28;01mclass\u001b[39;00m \u001b[38;5;21;01mQueue\u001b[39;00m:\n\u001b[1;32m     10\u001b[0m     queues  \u001b[38;5;241m=\u001b[39m {}\n\u001b[1;32m     12\u001b[0m     \u001b[38;5;28;01mdef\u001b[39;00m \u001b[38;5;21m__init__\u001b[39m(\u001b[38;5;28mself\u001b[39m, size, name):\n",
      "Cell \u001b[0;32mIn[9], line 75\u001b[0m, in \u001b[0;36mQueue\u001b[0;34m()\u001b[0m\n\u001b[1;32m     73\u001b[0m queue\u001b[38;5;241m.\u001b[39menqueue(\u001b[38;5;241m10\u001b[39m)\n\u001b[1;32m     74\u001b[0m queue\u001b[38;5;241m.\u001b[39menqueue(\u001b[38;5;241m15\u001b[39m)\n\u001b[0;32m---> 75\u001b[0m \u001b[43mqueue\u001b[49m\u001b[38;5;241;43m.\u001b[39;49m\u001b[43menqueue\u001b[49m\u001b[43m(\u001b[49m\u001b[38;5;241;43m20\u001b[39;49m\u001b[43m)\u001b[49m\n",
      "Cell \u001b[0;32mIn[8], line 22\u001b[0m, in \u001b[0;36mQueue.enqueue\u001b[0;34m(self, item)\u001b[0m\n\u001b[1;32m     19\u001b[0m \u001b[38;5;28;01mdef\u001b[39;00m \u001b[38;5;21menqueue\u001b[39m(\u001b[38;5;28mself\u001b[39m, item):\n\u001b[1;32m     21\u001b[0m     \u001b[38;5;28;01mif\u001b[39;00m \u001b[38;5;28mlen\u001b[39m(\u001b[38;5;28mself\u001b[39m\u001b[38;5;241m.\u001b[39mitems) \u001b[38;5;241m>\u001b[39m\u001b[38;5;241m=\u001b[39m \u001b[38;5;28mself\u001b[39m\u001b[38;5;241m.\u001b[39msize:\n\u001b[0;32m---> 22\u001b[0m         \u001b[38;5;28;01mraise\u001b[39;00m QueueOutOfRangeException(\n\u001b[1;32m     23\u001b[0m             \u001b[38;5;124mf\u001b[39m\u001b[38;5;124m\"\u001b[39m\u001b[38;5;124mQueue \u001b[39m\u001b[38;5;124m'\u001b[39m\u001b[38;5;132;01m{\u001b[39;00m\u001b[38;5;28mself\u001b[39m\u001b[38;5;241m.\u001b[39mname\u001b[38;5;132;01m}\u001b[39;00m\u001b[38;5;124m'\u001b[39m\u001b[38;5;124m has reached its size limit of \u001b[39m\u001b[38;5;132;01m{\u001b[39;00m\u001b[38;5;28mself\u001b[39m\u001b[38;5;241m.\u001b[39msize\u001b[38;5;132;01m}\u001b[39;00m\u001b[38;5;124m.\u001b[39m\u001b[38;5;124m\"\u001b[39m\n\u001b[1;32m     24\u001b[0m         )\n\u001b[1;32m     25\u001b[0m     \u001b[38;5;28mself\u001b[39m\u001b[38;5;241m.\u001b[39mitems\u001b[38;5;241m.\u001b[39mappend(item)\n",
      "\u001b[0;31mQueueOutOfRangeException\u001b[0m: Queue 'first' has reached its size limit of 3."
     ]
    }
   ],
   "source": [
    "import pickle\n",
    "\n",
    "class  QueueOutOfRangeException(Exception):\n",
    "    pass\n",
    "\n",
    "\n",
    "\n",
    "class Queue:\n",
    "\n",
    "    queues  = {}\n",
    "\n",
    "    def __init__(self, size, name):\n",
    "        self.items = []\n",
    "        self.size = size\n",
    "        self.name = name\n",
    "        Queue.queues[name] = self\n",
    "\n",
    "    \n",
    "    def enqueue(self, item):\n",
    "\n",
    "        if len(self.items) >= self.size:\n",
    "            raise QueueOutOfRangeException(\n",
    "                f\"Queue '{self.name}' has reached its size limit of {self.size}.\"\n",
    "            )\n",
    "        self.items.append(item)\n",
    "\n",
    "\n",
    "\n",
    "    def dequeue(self):\n",
    "        \n",
    "        if self.is_empty():\n",
    "            print(\"Queue is empty\")\n",
    "            return None\n",
    "        return self.items.pop(0)\n",
    "    \n",
    "    def is_empty(self):\n",
    "        return len(self.items) == 0\n",
    "    \n",
    "\n",
    "    @classmethod\n",
    "    def get_queue(cls, name):\n",
    "        return cls.queues.get(name, None)\n",
    "\n",
    "\n",
    "    @classmethod\n",
    "    def save_queues(cls, filename):\n",
    "\n",
    "        with open(filename, 'wb') as file:\n",
    "            pickle.dump(cls.queues, file)\n",
    "        \n",
    "        print(\"Queues saved successfully\")\n",
    "\n",
    "\n",
    "\n",
    "    @classmethod\n",
    "    def load_queues(cls, filename):\n",
    "        try:\n",
    "            with open(filename, 'rb') as file:\n",
    "                cls.queues = pickle.load(file)\n",
    "            print(\"Queues loaded successfully\")\n",
    "        except FileNotFoundError:\n",
    "            print(\"No saved queues found\")\n",
    "        except Exception as e:\n",
    "            print(\"An error occurred while loading queues\")\n",
    "            print(e)\n",
    "\n",
    "\n",
    "# Example usage\n",
    "\n",
    "\n",
    "    queue = Queue(3, \"first\")\n",
    "    queue.enqueue(5)\n",
    "    queue.enqueue(10)\n",
    "    queue.enqueue(15)\n",
    "    queue.enqueue(20)\n",
    "\n",
    "Queue.save_queues(\"queues.pkl\")\n",
    "Queue.queues.clear()\n",
    "Queue.load_queues(\"queues.pkl\")\n",
    "print(Queue.queues)\n"
   ]
  }
 ],
 "metadata": {
  "kernelspec": {
   "display_name": "Python 3",
   "language": "python",
   "name": "python3"
  },
  "language_info": {
   "codemirror_mode": {
    "name": "ipython",
    "version": 3
   },
   "file_extension": ".py",
   "mimetype": "text/x-python",
   "name": "python",
   "nbconvert_exporter": "python",
   "pygments_lexer": "ipython3",
   "version": "3.9.21"
  }
 },
 "nbformat": 4,
 "nbformat_minor": 2
}
