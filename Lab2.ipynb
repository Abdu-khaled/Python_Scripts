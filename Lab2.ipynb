{
 "cells": [
  {
   "cell_type": "markdown",
   "metadata": {},
   "source": [
    "##### 01) Write a function that accepts two arguments (length, start) to generate an array of a specific length filled with integer numbers increased by one from start\n"
   ]
  },
  {
   "cell_type": "code",
   "execution_count": 1,
   "metadata": {},
   "outputs": [
    {
     "name": "stdout",
     "output_type": "stream",
     "text": [
      "[10, 11, 12, 13, 14]\n"
     ]
    }
   ],
   "source": [
    "def generateArray(length, start):\n",
    "    result = []\n",
    "    \n",
    "    for i in range(length):        \n",
    "        result.append( start + i)\n",
    "\n",
    "    return result\n",
    "\n",
    "\n",
    "print(generateArray(5,10))"
   ]
  },
  {
   "cell_type": "markdown",
   "metadata": {},
   "source": [
    "##### 02) write a function that takes a number as an argument and if the number divisible by 3 return \"Fizz\" and if it is divisible by 5 return \"buzz\" and if is is divisible by both return \"FizzBuzz\""
   ]
  },
  {
   "cell_type": "code",
   "execution_count": 4,
   "metadata": {},
   "outputs": [
    {
     "name": "stdout",
     "output_type": "stream",
     "text": [
      "FizzBuzz\n"
     ]
    }
   ],
   "source": [
    "def FizzBuzz(num):\n",
    "   \n",
    "   if num % 3 == 0 and num % 5 == 0:\n",
    "      return \"FizzBuzz\"\n",
    "   \n",
    "   elif num % 3 == 0:\n",
    "      return \"Fizz\"\n",
    "   \n",
    "   elif num % 5 == 0:\n",
    "      return \"Buzz\"\n",
    "   \n",
    "   else:\n",
    "      return num\n",
    "\n",
    "\n",
    "number = int(input(\"Enter Your Number:\"))\n",
    "print(FizzBuzz(number))"
   ]
  },
  {
   "cell_type": "markdown",
   "metadata": {},
   "source": [
    "##### 03) Write a function which has an input of a string from user then it will return the same string reversed."
   ]
  },
  {
   "cell_type": "code",
   "execution_count": 5,
   "metadata": {},
   "outputs": [
    {
     "name": "stdout",
     "output_type": "stream",
     "text": [
      "olleh\n"
     ]
    }
   ],
   "source": [
    "def reverse_string(input_string):\n",
    "\n",
    "    return input_string[::-1]\n",
    "\n",
    "\n",
    "string_input = input(\"Enter your string pls:\")\n",
    "print(reverse_string(string_input))"
   ]
  },
  {
   "cell_type": "markdown",
   "metadata": {},
   "source": [
    "##### 04) Ask the user for his name then confirm that he has entered his name(not an empty string/integers). then proceed to ask him for his email and print all this data (Bonus) check if it is a valid email or not"
   ]
  },
  {
   "cell_type": "code",
   "execution_count": 7,
   "metadata": {},
   "outputs": [
    {
     "name": "stdout",
     "output_type": "stream",
     "text": [
      "Name: Abdo \n",
      "Email:abdo@gmail.com\n"
     ]
    }
   ],
   "source": [
    "import re\n",
    "\n",
    "\n",
    "def checkEmail(email):\n",
    "    if re.match(r\"[^@]+@[^@]+\\.[^@]+\", email):\n",
    "        return True\n",
    "\n",
    "def userData():\n",
    "\n",
    "    name = input(\"Enter your Name:\").strip()\n",
    "\n",
    "    if not name or name.isdigit():\n",
    "        print(\"pls enter vaild name\")\n",
    "        return\n",
    "    \n",
    "\n",
    "    email = input(\"Enter your email:\").strip()\n",
    "\n",
    "    if not checkEmail(email):\n",
    "        print(\"pls enter valid email\")\n",
    "        return\n",
    "    print(f\"Name: {name} \\nEmail:{email}\")\n",
    "\n",
    "\n",
    "\n",
    "userData()"
   ]
  },
  {
   "cell_type": "markdown",
   "metadata": {},
   "source": [
    "##### 05) Write a function that takes a string and prints the longest alphabetical ordered substring occurred For example, if the string is 'abdulrahman' then the output is: Longest substring in alphabetical order is: abdu\n"
   ]
  },
  {
   "cell_type": "code",
   "execution_count": 8,
   "metadata": {},
   "outputs": [
    {
     "name": "stdout",
     "output_type": "stream",
     "text": [
      "anxyz\n"
     ]
    }
   ],
   "source": [
    "def longest_substring(string):\n",
    "    current = string[0]\n",
    "    longest = string[0]\n",
    "\n",
    "    for i in range(1, len(string)):\n",
    "        if string[i] >= current[-1]:\n",
    "            current += string[i]\n",
    "            if len(current) > len(longest):\n",
    "                longest = current\n",
    "        else:\n",
    "            current = string[i]\n",
    "\n",
    "    return longest\n",
    "\n",
    "\n",
    "input_string = input(\"Enter your string pls:\")\n",
    "\n",
    "print(longest_substring(input_string))"
   ]
  },
  {
   "cell_type": "markdown",
   "metadata": {},
   "source": [
    "06) Write a program which repeatedly reads numbers until the user enters “done”.\n",
    " - Once “done” is entered, print out the total, count, and average of the numbers.\n",
    " - If the user enters anything other than a number, detect their mistake, print an error message and skip to the next number."
   ]
  },
  {
   "cell_type": "code",
   "execution_count": 10,
   "metadata": {},
   "outputs": [
    {
     "name": "stdout",
     "output_type": "stream",
     "text": [
      "Total: 15 \n",
      "Count: 5 \n",
      "Average: 3.0\n"
     ]
    }
   ],
   "source": [
    "def calculate():\n",
    "    total = 0\n",
    "    count = 0\n",
    "\n",
    "    while True:\n",
    "        try:\n",
    "            user_input = input(\"Enter a number:\")\n",
    "            if user_input == \"done\":\n",
    "                break\n",
    "            else:\n",
    "                total += int(user_input)\n",
    "                count += 1\n",
    "        except:\n",
    "            print(\"Invalid input\")\n",
    "            continue\n",
    "\n",
    "\n",
    "    print(f\"Total: {total} \\nCount: {count} \\nAverage: {total/count}\")\n",
    "\n",
    "calculate()\n"
   ]
  },
  {
   "cell_type": "markdown",
   "metadata": {},
   "source": [
    "##### 07) Word guessing game (hangman)"
   ]
  },
  {
   "cell_type": "code",
   "execution_count": null,
   "metadata": {},
   "outputs": [],
   "source": [
    "import random\n",
    "\n",
    "# List of words for the game\n",
    "words = [\"python\", \"programming\", \"hangman\", \"challenge\", \"code\", \"developer\"]\n",
    "\n",
    "def choose_word():\n",
    "    \"\"\"Selects a random word from the list.\"\"\"\n",
    "    return random.choice(words)\n",
    "\n",
    "def display_word(word, guessed_letters):\n",
    "    \"\"\"Displays the current state of the word being guessed.\"\"\"\n",
    "    return \" \".join([letter if letter in guessed_letters else \"_\" for letter in word])\n",
    "\n",
    "def play_hangman():\n",
    "    print(\"Welcome to Hangman!\")\n",
    "    word_to_guess = choose_word()\n",
    "    guessed_letters = set()\n",
    "    attempts_left = 6\n",
    "\n",
    "    while attempts_left > 0:\n",
    "        print(\"\\n\" + display_word(word_to_guess, guessed_letters))\n",
    "        print(f\"Attempts left: {attempts_left}\")\n",
    "        print(f\"Guessed letters: {', '.join(sorted(guessed_letters))}\")\n",
    "\n",
    "        guess = input(\"Guess a letter: \").lower()\n",
    "\n",
    "        if len(guess) != 1 or not guess.isalpha():\n",
    "            print(\"Please enter a single valid letter.\")\n",
    "            continue\n",
    "\n",
    "        if guess in guessed_letters:\n",
    "            print(\"You already guessed that letter!\")\n",
    "            continue\n",
    "\n",
    "        guessed_letters.add(guess)\n",
    "\n",
    "        if guess in word_to_guess:\n",
    "            print(\"Good job! You guessed a correct letter.\")\n",
    "        else:\n",
    "            print(\"Oops! That letter is not in the word.\")\n",
    "            attempts_left -= 1\n",
    "\n",
    "        if all(letter in guessed_letters for letter in word_to_guess):\n",
    "            print(\"\\nCongratulations! You guessed the word:\", word_to_guess)\n",
    "            break\n",
    "    else:\n",
    "        print(\"\\nGame over! The word was:\", word_to_guess)\n",
    "\n",
    "# Run the game\n",
    "if __name__ == \"__main__\":\n",
    "    play_hangman()\n"
   ]
  }
 ],
 "metadata": {
  "kernelspec": {
   "display_name": "Python 3",
   "language": "python",
   "name": "python3"
  },
  "language_info": {
   "codemirror_mode": {
    "name": "ipython",
    "version": 3
   },
   "file_extension": ".py",
   "mimetype": "text/x-python",
   "name": "python",
   "nbconvert_exporter": "python",
   "pygments_lexer": "ipython3",
   "version": "3.9.21"
  }
 },
 "nbformat": 4,
 "nbformat_minor": 2
}
