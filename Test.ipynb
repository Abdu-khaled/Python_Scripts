{
 "cells": [
  {
   "cell_type": "markdown",
   "metadata": {},
   "source": [
    "# 01) Write a program that counts up the number of vowels [a, e, i, o,u] contained in the string."
   ]
  },
  {
   "cell_type": "code",
   "execution_count": 1,
   "metadata": {},
   "outputs": [
    {
     "name": "stdout",
     "output_type": "stream",
     "text": [
      "number of vowels: 0\n"
     ]
    }
   ],
   "source": [
    "string = input(\"Enter ur word man!!:\")\n",
    "\n",
    "vowels = \"aeiouAEIOU\"\n",
    "\n",
    "count = 0\n",
    "\n",
    "for i in string:\n",
    "    if i in vowels:\n",
    "        count +=1\n",
    "\n",
    "print(\"number of vowels:\",count)"
   ]
  },
  {
   "cell_type": "markdown",
   "metadata": {},
   "source": [
    "# 2) Fill an array of 5 elements from the user, Sort it in descending and ascending orders then display the output."
   ]
  },
  {
   "cell_type": "code",
   "execution_count": null,
   "metadata": {},
   "outputs": [],
   "source": [
    "\n",
    "value = []\n",
    "i = 0\n",
    "\n",
    "while i<5:\n",
    "    num=input(\"Enter ur number:\")\n",
    "    if num.isdigit():\n",
    "        num=int(num)\n",
    "        value.append(num)\n",
    "        i += 1\n",
    "    else:\n",
    "        print(\"Put number bro!!!\")\n",
    "    \n",
    "\n",
    "value.sort()\n",
    "print(value)\n",
    "value.sort(reverse=True)\n",
    "print(value)\n",
    "\n"
   ]
  },
  {
   "cell_type": "markdown",
   "metadata": {},
   "source": [
    "# 3) Write a program that prints the number of times the string 'iti' occurs in anystring"
   ]
  },
  {
   "cell_type": "code",
   "execution_count": null,
   "metadata": {},
   "outputs": [],
   "source": [
    "text = input(\"Enter ur text bro!:\")\n",
    "count = text.count(\"iti\")\n",
    "\n",
    "print(\"The word of 'iti' occurs:\",count)\n"
   ]
  },
  {
   "cell_type": "code",
   "execution_count": null,
   "metadata": {},
   "outputs": [],
   "source": [
    "# 4) Write a program that remove all vowels from the input word and generate a brief version of it"
   ]
  },
  {
   "cell_type": "code",
   "execution_count": null,
   "metadata": {},
   "outputs": [],
   "source": [
    "word = input(\"Enter ur word :\")\n",
    "\n",
    "vowels = \"aeiouAEIOU\"\n",
    "\n",
    "result =\"\"\n",
    "\n",
    "for i in word:\n",
    "    if i not in vowels:\n",
    "        result = result + i\n",
    "\n",
    "print(result)        \n"
   ]
  },
  {
   "cell_type": "markdown",
   "metadata": {},
   "source": [
    "# 5)Write a program that prints the locations of \"i\" character in any string you added."
   ]
  },
  {
   "cell_type": "code",
   "execution_count": null,
   "metadata": {},
   "outputs": [],
   "source": [
    "\n",
    "text = input(\"Enter ur word bro!!:\")\n",
    "\n",
    "location =[]\n",
    "\n",
    "for index in range(len(text)):\n",
    "    if text[index] == 'i' or text[index] == 'I':\n",
    "        location.append(index)\n",
    "\n",
    "\n",
    "print(\"Locations of 'i':\",location)\n"
   ]
  },
  {
   "cell_type": "code",
   "execution_count": null,
   "metadata": {},
   "outputs": [],
   "source": [
    "# 6)Write a program that generate a multiplication table from 1 to the number passed"
   ]
  },
  {
   "cell_type": "code",
   "execution_count": null,
   "metadata": {},
   "outputs": [],
   "source": [
    "num = input(\"Enter ur number:\")\n",
    "\n",
    "list = []\n",
    "\n",
    "if num.isdigit():\n",
    "    num=int(num)\n",
    "    for i in range(1, num +1):\n",
    "        row=[]\n",
    "        for j in range(1 , i +1):\n",
    "            row.append(j*i)\n",
    "        list.append(row)\n",
    "\n",
    "print(list)"
   ]
  },
  {
   "cell_type": "code",
   "execution_count": null,
   "metadata": {},
   "outputs": [],
   "source": [
    "#  7) Write a program that build a Mario pyramid like below"
   ]
  },
  {
   "cell_type": "code",
   "execution_count": null,
   "metadata": {},
   "outputs": [],
   "source": [
    "num = input(\"Enter ur Number:\")\n",
    "\n",
    "if num.isdigit():\n",
    "\n",
    "    num = int(num)\n",
    "    for i in range(1, num +1):\n",
    "\n",
    "        space = num - i\n",
    "        print(\" \"*space + \"*\"*i)\n",
    "else:\n",
    "\n",
    "    print(\"Put Number broooooo!!\")"
   ]
  }
 ],
 "metadata": {
  "kernelspec": {
   "display_name": "Python 3",
   "language": "python",
   "name": "python3"
  },
  "language_info": {
   "codemirror_mode": {
    "name": "ipython",
    "version": 3
   },
   "file_extension": ".py",
   "mimetype": "text/x-python",
   "name": "python",
   "nbconvert_exporter": "python",
   "pygments_lexer": "ipython3",
   "version": "3.9.21"
  }
 },
 "nbformat": 4,
 "nbformat_minor": 2
}
